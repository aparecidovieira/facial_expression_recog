{
 "cells": [
  {
   "cell_type": "code",
   "execution_count": 3,
   "metadata": {},
   "outputs": [],
   "source": [
    "import tensorflow as tf\n",
    "import numpy as np\n",
    "import pandas as pd\n",
    "import matplotlib.pyplot as plt\n",
    "import csv\n",
    "\n",
    "%matplotlib inline"
   ]
  },
  {
   "cell_type": "markdown",
   "metadata": {},
   "source": [
    "# Loading data\n",
    "\n",
    "Data is provided by a link in the folder data. Enjoy yourself!!!"
   ]
  },
  {
   "cell_type": "code",
   "execution_count": 7,
   "metadata": {},
   "outputs": [],
   "source": [
    "training_data = np.loadtxt('data_FacExp/fer2013_training_onehot.csv', delimiter=',')"
   ]
  },
  {
   "cell_type": "code",
   "execution_count": 8,
   "metadata": {
    "collapsed": true
   },
   "outputs": [],
   "source": [
    "testing_data = np.loadtxt('data_FacExp/fer2013_publictest_onehot.csv', delimiter=',')"
   ]
  },
  {
   "cell_type": "code",
   "execution_count": 9,
   "metadata": {},
   "outputs": [
    {
     "data": {
      "text/plain": [
       "array([[  70.,   80.,   82., ...,    0.,    0.,    0.],\n",
       "       [ 151.,  150.,  147., ...,    0.,    0.,    0.],\n",
       "       [ 231.,  212.,  156., ...,    0.,    0.,    0.],\n",
       "       ..., \n",
       "       [  74.,   81.,   87., ...,    1.,    0.,    0.],\n",
       "       [ 222.,  227.,  203., ...,    0.,    0.,    0.],\n",
       "       [ 195.,  199.,  205., ...,    1.,    0.,    0.]])"
      ]
     },
     "execution_count": 9,
     "metadata": {},
     "output_type": "execute_result"
    }
   ],
   "source": [
    "training_data"
   ]
  },
  {
   "cell_type": "code",
   "execution_count": 92,
   "metadata": {},
   "outputs": [],
   "source": [
    "def print_samples(data, n, label, emo_dict):\n",
    "    seed = len(data)\n",
    "    for i in range(n):\n",
    "        j = random.randint(1, seed)\n",
    "        sample_img = data[j, :]\n",
    "        sample_img = np.reshape(sample_img, (48, 48))\n",
    "        \n",
    "        sample_label = label[j, : ]\n",
    "        n_dict = np.argmax(sample_label)\n",
    "        print('Emoion :', emo_dict[n_dict])\n",
    "        plt.imshow(sample_img, cmap='gray')\n",
    "        plt.show()\n",
    "    "
   ]
  },
  {
   "cell_type": "code",
   "execution_count": 93,
   "metadata": {
    "collapsed": true
   },
   "outputs": [],
   "source": [
    "def load_data(train, test, n_inputs, n_classes):\n",
    "    \n",
    "    dim = len(train)\n",
    "    x_tr = train[:, 0:n_inputs]\n",
    "    y_tr = train[:, n_inputs:n_inputs + n_classes]\n",
    "    \n",
    "    x_te = test[:, 0:n_inputs]\n",
    "    y_te = test[:, n_inputs:n_inputs + n_classes]\n",
    "    \n",
    "    x_tr = np.reshape(x_tr, (-1, 48, 48, 1))\n",
    "    #x_tr = np.expand_dims(x_tr, axis=4)\n",
    "    \n",
    "    x_te = np.reshape(x_te, (-1, 48, 48, 1))\n",
    "    #x_te = np.expand_dims(x_te, axis=4)\n",
    "    \n",
    "    return x_tr, y_tr, x_te, y_te"
   ]
  },
  {
   "cell_type": "code",
   "execution_count": 94,
   "metadata": {},
   "outputs": [
    {
     "name": "stdout",
     "output_type": "stream",
     "text": [
      "Training input data shape: (28709, 48, 48, 1)\n",
      "Training labels data shape: (28709, 7)\n",
      "Testing input data shape: (3589, 48, 48, 1)\n",
      "Testing labels data shape: (3589, 7)\n"
     ]
    }
   ],
   "source": [
    "data_lenght = len(training_data)\n",
    "n_inputs = 2304\n",
    "n_classes = 7\n",
    "X_tr, Y_tr, X_te, Y_te = load_data(training_data, testing_data, n_inputs, n_classes)\n",
    "\n",
    "print('Training input data shape:', X_tr.shape)\n",
    "print('Training labels data shape:', Y_tr.shape)\n",
    "print('Testing input data shape:', X_te.shape)\n",
    "print('Testing labels data shape:', Y_te.shape)\n"
   ]
  },
  {
   "cell_type": "code",
   "execution_count": 95,
   "metadata": {},
   "outputs": [
    {
     "name": "stdout",
     "output_type": "stream",
     "text": [
      "Emoion : fear\n"
     ]
    },
    {
     "data": {
      "image/png": "[encoded data removed]",
      "text/plain": [
       "<matplotlib.figure.Figure at 0x7f499f6b6320>"
      ]
     },
     "metadata": {},
     "output_type": "display_data"
    },
    {
     "name": "stdout",
     "output_type": "stream",
     "text": [
      "Emoion : sad\n"
     ]
    },
    {
     "data": {
      "image/png": "[encoded data removed]",
      "text/plain": [
       "<matplotlib.figure.Figure at 0x7f49a1d796a0>"
      ]
     },
     "metadata": {},
     "output_type": "display_data"
    },
    {
     "name": "stdout",
     "output_type": "stream",
     "text": [
      "Emoion : neutral\n"
     ]
    },
    {
     "data": {
      "image/png": "[encoded data removed]",
      "text/plain": [
       "<matplotlib.figure.Figure at 0x7f49a0602f98>"
      ]
     },
     "metadata": {},
     "output_type": "display_data"
    }
   ],
   "source": [
    "import random\n",
    "emo_dict = {0:'angry', 1:'disgust', 2:'fear', 3:'happy', 4:'sad', 5:'surprise', 6:'neutral'}\n",
    "samples = 3\n",
    "print_samples(X_tr, samples, Y_tr, emo_dict)"
   ]
  },
  {
   "cell_type": "code",
   "execution_count": 168,
   "metadata": {
    "collapsed": true
   },
   "outputs": [],
   "source": [
    "tf.reset_default_graph()\n",
    "sess = tf.Session()"
   ]
  },
  {
   "cell_type": "code",
   "execution_count": 169,
   "metadata": {},
   "outputs": [],
   "source": [
    "def weight_var(shape):\n",
    "    w = tf.truncated_normal(shape=shape, mean=0, stddev=0.1)\n",
    "    return tf.Variable(w)\n",
    "\n",
    "def bias_var(shape):\n",
    "    return tf.Variable(tf.zeros(shape))\n",
    "\n",
    "\n",
    "def CNN(x_):\n",
    "    filter_ = 5\n",
    "    strides1 = [1, 1, 1, 1]\n",
    "    strides2 = [1, 2, 2, 1]\n",
    "    ksize = strides2\n",
    "    \n",
    "    w1 = weight_var(shape=[5, 5, 1, 64])   \n",
    "    b1 = bias_var(64)\n",
    "    layer1 = tf.nn.conv2d(x_, w1, strides=strides1, padding='VALID')  #(, 44, 44, 64)\n",
    "    layer1 = tf.nn.bias_add(layer1, b1)\n",
    "    layer1 = tf.nn.relu(layer1)\n",
    "    print(layer1.get_shape)\n",
    "    layer1 = tf.nn.max_pool(layer1, ksize=ksize, strides=strides2, padding='VALID') #(, 22, 22, 64)\n",
    "    \n",
    "    \n",
    "    w2 = weight_var(shape=[5, 5, 64, 64])\n",
    "    b2 = bias_var(64)\n",
    "    layer2 = tf.nn.conv2d(layer1, w2, strides=strides1, padding='VALID') #(, 18, 18, 64)\n",
    "    layer2 = tf.nn.bias_add(layer2, b2)\n",
    "    print(layer2.get_shape)\n",
    "    \n",
    "    \n",
    "    layer2 = tf.nn.relu(layer2)\n",
    "    \n",
    "    layer2 = tf.nn.max_pool(layer2, ksize=ksize, strides=strides2, padding='VALID') #(, 9, 9, 64)\n",
    "    \n",
    "    w3 = weight_var(shape=[5, 5, 64, 128])\n",
    "    b3 = bias_var(128)\n",
    "    layer3 = tf.nn.conv2d(layer2, w3, strides=strides1, padding='VALID')\n",
    "    layer3 = tf.nn.bias_add(layer3, b3)\n",
    "    layer3 = tf.nn.relu(layer3)\n",
    "    print(layer3.get_shape)\n",
    "    layer3= tf.nn.max_pool(layer3, ksize=ksize, strides=strides2, padding='VALID')\n",
    "    h = layer3.get_shape\n",
    "    print(h)\n",
    "    \n",
    "    flatten = tf.contrib.layers.flatten(layer3)\n",
    "    l = flatten.get_shape()\n",
    "    print(l)\n",
    "    wc1 = weight_var(shape=[512, 220])\n",
    "    b_c1 = bias_var(220)\n",
    "    fc1 = tf.matmul(flatten, wc1) + b_c1\n",
    "    fc1 = tf.nn.relu(fc1)\n",
    "    \n",
    "    wc2 = weight_var(shape=[220, n_classes])\n",
    "    b_c2 = bias_var(n_classes)\n",
    "    logits = tf.matmul(fc1, wc2) + b_c2\n",
    "    \n",
    "    \n",
    "    return logits\n",
    "    \n",
    "    \n",
    "    \n",
    "    "
   ]
  },
  {
   "cell_type": "code",
   "execution_count": 170,
   "metadata": {},
   "outputs": [
    {
     "name": "stdout",
     "output_type": "stream",
     "text": [
      "<bound method Tensor.get_shape of <tf.Tensor 'Relu:0' shape=(?, 44, 44, 64) dtype=float32>>\n",
      "<bound method Tensor.get_shape of <tf.Tensor 'BiasAdd_1:0' shape=(?, 18, 18, 64) dtype=float32>>\n",
      "<bound method Tensor.get_shape of <tf.Tensor 'Relu_2:0' shape=(?, 5, 5, 128) dtype=float32>>\n",
      "<bound method Tensor.get_shape of <tf.Tensor 'MaxPool_2:0' shape=(?, 2, 2, 128) dtype=float32>>\n",
      "(?, 512)\n"
     ]
    }
   ],
   "source": [
    "\n",
    "\n",
    "x = tf.placeholder(dtype=tf.float32, shape=(None, 48, 48, 1))\n",
    "y = tf.placeholder(dtype=tf.float32, shape=(None, n_classes))\n",
    "\n",
    "\n",
    "\n",
    "logits = CNN(x)"
   ]
  },
  {
   "cell_type": "code",
   "execution_count": 171,
   "metadata": {
    "collapsed": true
   },
   "outputs": [],
   "source": [
    "softmax = tf.nn.softmax(logits)\n",
    "learning_rate = 1e-3\n",
    "loss = tf.reduce_mean(tf.nn.softmax_cross_entropy_with_logits(logits=logits, labels=y))\n",
    "optimizer = tf.train.AdamOptimizer(learning_rate, beta1=0.9, beta2=0.99).minimize(loss)\n",
    "\n",
    "prediction = tf.equal(tf.argmax(softmax, 1), tf.argmax(logits, 1))\n",
    "accuracy = tf.reduce_mean(tf.cast(prediction, dtype=tf.float32))\n",
    "\n"
   ]
  },
  {
   "cell_type": "code",
   "execution_count": 172,
   "metadata": {
    "collapsed": true
   },
   "outputs": [],
   "source": [
    "init = tf.global_variables_initializer()\n",
    "sess.run(init)"
   ]
  },
  {
   "cell_type": "code",
   "execution_count": null,
   "metadata": {},
   "outputs": [],
   "source": [
    "train_loss_hist = []\n",
    "train_acc = []\n",
    "test_loss_hist = []\n",
    "test_acc = []\n",
    "epochs= 5\n",
    "\n",
    "\n",
    "batch_size = 32\n",
    "total_batches = X_tr.shape[0]//batch_size\n",
    "\n",
    "import time as t\n",
    "start = t.time()\n",
    "\n",
    "length = len(X_tr)\n",
    "m = 0\n",
    "\n",
    "print('Initializing Training')\n",
    "try:\n",
    "    for i in range(epochs):        \n",
    "        for j in range(total_batches):           \n",
    "            index = (j * batch_size) % (length - batch_size)    \n",
    "            batch_xs = X_tr[index: index + batch_size]\n",
    "            batch_ys = Y_tr[index: index + batch_size]\n",
    "            \n",
    "            _, loss_, _, acc,  = sess.run([optimizer, loss, softmax, accuracy], feed_dict={x: batch_xs,\n",
    "                                                                       y: batch_ys\n",
    "                                                                  })\n",
    "\n",
    "            if i % 50 == 0:\n",
    "                #_loss, _acc,  = sess.run([ loss, accuracy], feed_dict={x: X_te,\n",
    "                                                                   #y: Y_te\n",
    "                                                                  #})\n",
    "                print('Epoch {} batch {} Train-loss: {} and Accuracy {}%'.format(i, j, loss_, 100 * acc))\n",
    "                #print('Test-loss: {} and test Accuracy {}%'.format( _loss, 100 * _acc))\n",
    "                #test_acc.append(_acc)\n",
    "                train_acc.append(acc)\n",
    "                #test_loss_hist.append(_loss)\n",
    "                train_loss_hist.append(loss_)\n",
    "        if i % 50 == 0:\n",
    "            print(\" \")\n",
    "            #print(prediction)\n",
    "except KeyboardInterrupt:\n",
    "    print('Training Interrupted')\n",
    "end = t.time()\n",
    "print((end-start)/60, 'mins')"
   ]
  },
  {
   "cell_type": "code",
   "execution_count": null,
   "metadata": {
    "collapsed": true
   },
   "outputs": [],
   "source": [
    "font = {\n",
    "    'family' : 'Bitstream Vera Sans',\n",
    "    'weight' : 'bold',\n",
    "    'size'   : 18\n",
    "}\n",
    "plt.rc('font', **font)"
   ]
  },
  {
   "cell_type": "code",
   "execution_count": null,
   "metadata": {
    "collapsed": true
   },
   "outputs": [],
   "source": [
    "width = 10\n",
    "height = 10\n",
    "plt.figure(figsize=(width, height))\n",
    "\n",
    "plt.title(\"Training session's progress over iterations\")\n",
    "plt.plot(train_loss_hist, 'b-', label='Train Loss')\n",
    "plt.plot(test_loss_hist, 'g--', label='Test Loss')\n",
    "plt.xlabel('Training iteration')\n",
    "plt.ylabel('Training Progress Loss')\n",
    "plt.show()\n"
   ]
  },
  {
   "cell_type": "code",
   "execution_count": null,
   "metadata": {
    "collapsed": true
   },
   "outputs": [],
   "source": [
    "plt.figure(figsize=(width, height))\n",
    "plt.plot(train_acc, 'g-', label='Train acc')\n",
    "plt.plot(test_acc, 'g--', label='Test acc')\n",
    "plt.title('Training session progress')\n",
    "plt.xlabel('Training iteration')\n",
    "plt.ylabel('Training Progress Accuracy')\n",
    "plt.show()"
   ]
  },
  {
   "cell_type": "code",
   "execution_count": null,
   "metadata": {
    "collapsed": true
   },
   "outputs": [],
   "source": [
    "font = {\n",
    "    'family' : 'Bitstream Vera Sans',\n",
    "    'weight' : 'bold',\n",
    "    'size'   : 18\n",
    "}\n",
    "plt.rc('font', **font)\n",
    "\n",
    "plt.figure(figsize=(width, height))\n",
    "\n",
    "plt.title(\"Training session's progress over iterations\")\n",
    "plt.plot(train_loss_hist, 'g', label='Train Loss')\n",
    "#plt.plot(test_loss_hist, '--', label='Test Loss')\n",
    "plt.plot(train_acc, 'b', label='Train acc')\n",
    "#plt.plot(test_acc, 'g-', label='Test acc')\n",
    "plt.xlabel('Training iteration')\n",
    "plt.ylabel('Training Progress Loss')\n",
    "plt.show()"
   ]
  }
 ],
 "metadata": {
  "kernelspec": {
   "display_name": "Python 3",
   "language": "python",
   "name": "python3"
  },
  "language_info": {
   "codemirror_mode": {
    "name": "ipython",
    "version": 3
   },
   "file_extension": ".py",
   "mimetype": "text/x-python",
   "name": "python",
   "nbconvert_exporter": "python",
   "pygments_lexer": "ipython3",
   "version": "3.6.1"
  }
 },
 "nbformat": 4,
 "nbformat_minor": 2
}
