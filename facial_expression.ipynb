{
 "cells": [
  {
   "cell_type": "code",
   "execution_count": 1,
   "metadata": {
    "collapsed": true
   },
   "outputs": [],
   "source": [
    "import tensorflow as tf\n",
    "import numpy as np\n",
    "import pandas as pd\n",
    "import matplotlib.pyplot as plt\n",
    "import csv\n",
    "\n",
    "%matplotlib inline"
   ]
  },
  {
   "cell_type": "markdown",
   "metadata": {},
   "source": [
    "# Loading data\n",
    "\n",
    "Data is provided by a link in the folder data. Enjoy yourself!!!"
   ]
  },
  {
   "cell_type": "code",
   "execution_count": 2,
   "metadata": {
    "collapsed": true
   },
   "outputs": [],
   "source": [
    "training_data = np.loadtxt('facial_recog/fer2013_training_onehot.csv', delimiter=',')"
   ]
  },
  {
   "cell_type": "code",
   "execution_count": 3,
   "metadata": {
    "collapsed": true
   },
   "outputs": [],
   "source": [
    "testing_data = np.loadtxt('facial_recog/fer2013_publictest_onehot.csv', delimiter=',')"
   ]
  },
  {
   "cell_type": "code",
   "execution_count": 4,
   "metadata": {},
   "outputs": [
    {
     "data": {
      "text/plain": [
       "array([[  70.,   80.,   82., ...,    0.,    0.,    0.],\n",
       "       [ 151.,  150.,  147., ...,    0.,    0.,    0.],\n",
       "       [ 231.,  212.,  156., ...,    0.,    0.,    0.],\n",
       "       ..., \n",
       "       [  74.,   81.,   87., ...,    1.,    0.,    0.],\n",
       "       [ 222.,  227.,  203., ...,    0.,    0.,    0.],\n",
       "       [ 195.,  199.,  205., ...,    1.,    0.,    0.]])"
      ]
     },
     "execution_count": 4,
     "metadata": {},
     "output_type": "execute_result"
    }
   ],
   "source": [
    "training_data"
   ]
  },
  {
   "cell_type": "code",
   "execution_count": 5,
   "metadata": {
    "collapsed": true
   },
   "outputs": [],
   "source": [
    "def print_samples(data, n, label, emo_dict):\n",
    "    seed = len(data)\n",
    "    for i in range(n):\n",
    "        j = random.randint(1, seed)\n",
    "        sample_img = data[j, :]\n",
    "        sample_img = np.reshape(sample_img, (48, 48))\n",
    "        \n",
    "        sample_label = label[j, : ]\n",
    "        n_dict = np.argmax(sample_label)\n",
    "        print('Emoion :', emo_dict[n_dict])\n",
    "        plt.imshow(sample_img, cmap='gray')\n",
    "        plt.show()\n",
    "    "
   ]
  },
  {
   "cell_type": "code",
   "execution_count": 6,
   "metadata": {
    "collapsed": true
   },
   "outputs": [],
   "source": [
    "def load_data(train, test, n_inputs, n_classes):\n",
    "    \n",
    "    dim = len(train)\n",
    "    x_tr = train[:, 0:n_inputs]\n",
    "    y_tr = train[:, n_inputs:n_inputs + n_classes]\n",
    "    \n",
    "    x_te = test[:, 0:n_inputs]\n",
    "    y_te = test[:, n_inputs:n_inputs + n_classes]\n",
    "    \n",
    "    x_tr = np.reshape(x_tr, (-1, 48, 48, 1))\n",
    "    #x_tr = np.expand_dims(x_tr, axis=4)\n",
    "    \n",
    "    x_te = np.reshape(x_te, (-1, 48, 48, 1))\n",
    "    #x_te = np.expand_dims(x_te, axis=4)\n",
    "    \n",
    "    return x_tr, y_tr, x_te, y_te"
   ]
  },
  {
   "cell_type": "code",
   "execution_count": 7,
   "metadata": {},
   "outputs": [
    {
     "name": "stdout",
     "output_type": "stream",
     "text": [
      "Training input data shape: (28709, 48, 48, 1)\n",
      "Training labels data shape: (28709, 7)\n",
      "Testing input data shape: (3589, 48, 48, 1)\n",
      "Testing labels data shape: (3589, 7)\n"
     ]
    }
   ],
   "source": [
    "data_lenght = len(training_data)\n",
    "n_inputs = 2304\n",
    "n_classes = 7\n",
    "X_tr, Y_tr, X_te, Y_te = load_data(training_data, testing_data, n_inputs, n_classes)\n",
    "\n",
    "print('Training input data shape:', X_tr.shape)\n",
    "print('Training labels data shape:', Y_tr.shape)\n",
    "print('Testing input data shape:', X_te.shape)\n",
    "print('Testing labels data shape:', Y_te.shape)\n"
   ]
  },
  {
   "cell_type": "code",
   "execution_count": 8,
   "metadata": {},
   "outputs": [
    {
     "name": "stdout",
     "output_type": "stream",
     "text": [
      "Emoion : happy\n"
     ]
    },
    {
     "data": {
      "image/png": "[encoded data removed]",
      "text/plain": [
       "<matplotlib.figure.Figure at 0x7f8241e44e10>"
      ]
     },
     "metadata": {},
     "output_type": "display_data"
    },
    {
     "name": "stdout",
     "output_type": "stream",
     "text": [
      "Emoion : fear\n"
     ]
    },
    {
     "data": {
      "image/png": "[encoded data removed]",
      "text/plain": [
       "<matplotlib.figure.Figure at 0x7f8240513320>"
      ]
     },
     "metadata": {},
     "output_type": "display_data"
    },
    {
     "name": "stdout",
     "output_type": "stream",
     "text": [
      "Emoion : angry\n"
     ]
    },
    {
     "data": {
      "image/png": "[encoded data removed]",
      "text/plain": [
       "<matplotlib.figure.Figure at 0x7f8241e4f9b0>"
      ]
     },
     "metadata": {},
     "output_type": "display_data"
    }
   ],
   "source": [
    "import random\n",
    "emo_dict = {0:'angry', 1:'disgust', 2:'fear', 3:'happy', 4:'sad', 5:'surprise', 6:'neutral'}\n",
    "samples = 3\n",
    "print_samples(X_tr, samples, Y_tr, emo_dict)"
   ]
  },
  {
   "cell_type": "code",
   "execution_count": 36,
   "metadata": {
    "collapsed": true
   },
   "outputs": [],
   "source": [
    "from sklearn.utils import shuffle\n",
    "from sklearn.model_selection import train_test_split\n",
    "\n",
    "X_tr, X_val, Y_tr, Y_val = train_test_split(X_tr, Y_tr, test_size=0.3, random_state=0)"
   ]
  },
  {
   "cell_type": "code",
   "execution_count": 135,
   "metadata": {
    "collapsed": true
   },
   "outputs": [],
   "source": [
    "tf.reset_default_graph()\n",
    "sess = tf.Session()"
   ]
  },
  {
   "cell_type": "code",
   "execution_count": 136,
   "metadata": {
    "collapsed": true
   },
   "outputs": [],
   "source": [
    "def train(X_batch, Y_batch):\n",
    "    total_loss = 0\n",
    "    total_acc = 0\n",
    "    samples = len(X_batch)\n",
    "    sess = tf.get_default_session()\n",
    "    for offset in range(0, samples, batch_size):\n",
    "        end = offset+batch_size\n",
    "        xs_batch, ys_batch = X_batch[offset:end], Y_batch[offset:end]\n",
    "        loss_, acc = sess.run([loss, accuracy], feed_dict={x:xs_batch, y:ys_batch})\n",
    "        total_loss += (float(loss_)*xs_batch.shape[0])\n",
    "        total_acc += (float(acc)*xs_batch.shape[0])\n",
    "\n",
    "    return (total_loss)/samples, (total_acc)/samples"
   ]
  },
  {
   "cell_type": "code",
   "execution_count": 137,
   "metadata": {
    "collapsed": true
   },
   "outputs": [],
   "source": [
    "def weight_var(shape):\n",
    "    w = tf.truncated_normal(shape=shape, mean=0, stddev=0.1)\n",
    "    return tf.Variable(w)\n",
    "\n",
    "def bias_var(shape):\n",
    "    return tf.Variable(tf.zeros(shape))\n",
    "\n",
    "\n",
    "def CNN(x_):\n",
    "    filter_ = 5\n",
    "    strides1 = [1, 1, 1, 1]\n",
    "    strides2 = [1, 2, 2, 1]\n",
    "    ksize = strides2\n",
    "    \n",
    "    w1 = weight_var(shape=[3, 3, 1, 12])   \n",
    "    b1 = bias_var(12)\n",
    "    layer1 = tf.nn.conv2d(x_, w1, strides=strides1, padding='VALID')  #(, 44, 44, 64)\n",
    "    layer1 = tf.nn.bias_add(layer1, b1)\n",
    "    layer1 = tf.nn.relu(layer1)\n",
    "    #print(layer1.get_shape)\n",
    "    #layer1 = tf.nn.max_pool(layer1, ksize=ksize, strides=strides2, padding='VALID') #(, 22, 22, 64)\n",
    "    \n",
    "    \n",
    "    w2 = weight_var(shape=[3, 3, 12, 16])\n",
    "    b2 = bias_var(16)\n",
    "    layer2 = tf.nn.conv2d(layer1, w2, strides=strides1, padding='VALID') #(, 18, 18, 64)\n",
    "    layer2 = tf.nn.bias_add(layer2, b2)\n",
    "    #print(layer2.get_shape)\n",
    "    \n",
    "    \n",
    "    layer2 = tf.nn.relu(layer2)\n",
    "    \n",
    "    layer2 = tf.nn.max_pool(layer2, ksize=ksize, strides=strides2, padding='VALID') #(, 9, 9, 64)\n",
    "    \n",
    "    w3 = weight_var(shape=[3, 3, 16, 24])\n",
    "    b3 = bias_var(24)\n",
    "    layer3 = tf.nn.conv2d(layer2, w3, strides=strides1, padding='VALID')\n",
    "    layer3 = tf.nn.bias_add(layer3, b3)\n",
    "    layer3 = tf.nn.relu(layer3)\n",
    "    #print(layer3.get_shape)\n",
    "    #layer3= tf.nn.max_pool(layer3, ksize=ksize, strides=strides2, padding='VALID')\n",
    "    h = layer3.get_shape\n",
    "    #print(h)\n",
    "    \n",
    "    \n",
    "    w4 = weight_var(shape=[3, 3, 24, 48])\n",
    "    b4 = bias_var(48)\n",
    "    layer4 = tf.nn.conv2d(layer3, w4, strides=strides1, padding='VALID')\n",
    "    layer4 = tf.nn.bias_add(layer4, b4)\n",
    "    layer4 = tf.nn.relu(layer4)\n",
    "    #print(layer3.get_shape)\n",
    "    layer4= tf.nn.max_pool(layer4, ksize=ksize, strides=strides2, padding='VALID')\n",
    "    \n",
    "    \n",
    "    \n",
    "    \n",
    "    flatten = tf.contrib.layers.flatten(layer4)\n",
    "    dim = flatten.get_shape().as_list()\n",
    "    print(dim[1])\n",
    "    wc1 = weight_var(shape=[(dim[1]), 512])\n",
    "    b_c1 = bias_var(512)\n",
    "    fc1 = tf.add(tf.matmul(flatten, wc1), b_c1)\n",
    "    fc1 = tf.nn.relu(fc1)\n",
    "    fc1 = tf.nn.dropout(fc1, 0.5)\n",
    "    \n",
    "    wc2 = weight_var(shape=[512, 64])\n",
    "    b_c2 = bias_var(64)\n",
    "    fc2 = tf.add(tf.matmul(fc1, wc2), b_c2)\n",
    "    fc2 = tf.nn.relu(fc2)\n",
    "    \n",
    "    wc3 = weight_var(shape=[64, n_classes])\n",
    "    b_c3 = bias_var(n_classes)\n",
    "    logits = tf.matmul(fc2, wc3) + b_c3\n",
    "    \n",
    "    return logits\n",
    "    \n",
    "    \n",
    "    \n",
    "    "
   ]
  },
  {
   "cell_type": "code",
   "execution_count": 138,
   "metadata": {},
   "outputs": [
    {
     "name": "stdout",
     "output_type": "stream",
     "text": [
      "3888\n"
     ]
    }
   ],
   "source": [
    "\n",
    "\n",
    "x = tf.placeholder(dtype=tf.float32, shape=(None, 48, 48, 1))\n",
    "y = tf.placeholder(dtype=tf.float32, shape=(None, n_classes))\n",
    "\n",
    "epochs = 60\n",
    "batch_size = 512\n",
    "logits = CNN(x)"
   ]
  },
  {
   "cell_type": "code",
   "execution_count": 139,
   "metadata": {},
   "outputs": [],
   "source": [
    "softmax = tf.nn.softmax(logits)\n",
    "learning_rate = 8e-4\n",
    "loss = tf.reduce_mean(tf.nn.softmax_cross_entropy_with_logits(logits=logits, labels=y))\n",
    "optimizer = tf.train.AdamOptimizer(learning_rate, beta1=0.9, beta2=0.99).minimize(loss)\n",
    "\n",
    "prediction = tf.equal(tf.argmax(logits, 1), tf.argmax(y, 1))\n",
    "accuracy = tf.reduce_mean(tf.cast(prediction, dtype=tf.float32))\n",
    "\n"
   ]
  },
  {
   "cell_type": "code",
   "execution_count": null,
   "metadata": {
    "collapsed": true
   },
   "outputs": [],
   "source": []
  },
  {
   "cell_type": "code",
   "execution_count": 140,
   "metadata": {},
   "outputs": [
    {
     "name": "stdout",
     "output_type": "stream",
     "text": [
      "Initializing Training\n",
      "EPOCH 1\n",
      "Validation Loss = 2.083 and Validation Accuracy = 18.313 %\n",
      "EPOCH 2\n",
      "Validation Loss = 1.913 and Validation Accuracy = 22.009 %\n",
      "EPOCH 3\n",
      "Validation Loss = 1.867 and Validation Accuracy = 23.407 %\n",
      "EPOCH 4\n",
      "Validation Loss = 1.852 and Validation Accuracy = 24.331 %\n",
      "EPOCH 5\n",
      "Validation Loss = 1.831 and Validation Accuracy = 24.757 %\n",
      "EPOCH 6\n",
      "Validation Loss = 1.818 and Validation Accuracy = 25.586 %\n",
      "EPOCH 7\n",
      "Validation Loss = 1.809 and Validation Accuracy = 26.297 %\n",
      "EPOCH 8\n",
      "Validation Loss = 1.799 and Validation Accuracy = 26.439 %\n",
      "EPOCH 9\n",
      "Validation Loss = 1.778 and Validation Accuracy = 28.998 %\n",
      "EPOCH 10\n",
      "Validation Loss = 1.769 and Validation Accuracy = 29.448 %\n",
      "EPOCH 11\n",
      "Validation Loss = 1.738 and Validation Accuracy = 30.964 %\n",
      "EPOCH 12\n",
      "Validation Loss = 1.736 and Validation Accuracy = 31.012 %\n",
      "EPOCH 13\n",
      "Validation Loss = 1.712 and Validation Accuracy = 32.670 %\n",
      "EPOCH 14\n",
      "Validation Loss = 1.715 and Validation Accuracy = 31.793 %\n",
      "EPOCH 15\n",
      "Validation Loss = 1.712 and Validation Accuracy = 33.618 %\n",
      "EPOCH 16\n",
      "Validation Loss = 1.677 and Validation Accuracy = 33.783 %\n",
      "EPOCH 17\n",
      "Validation Loss = 1.680 and Validation Accuracy = 34.921 %\n",
      "EPOCH 18\n",
      "Validation Loss = 1.678 and Validation Accuracy = 34.542 %\n",
      "EPOCH 19\n",
      "Validation Loss = 1.682 and Validation Accuracy = 34.352 %\n",
      "EPOCH 20\n",
      "Validation Loss = 1.687 and Validation Accuracy = 36.271 %\n",
      "EPOCH 21\n",
      "Validation Loss = 1.677 and Validation Accuracy = 36.934 %\n",
      "EPOCH 22\n",
      "Validation Loss = 1.692 and Validation Accuracy = 35.181 %\n",
      "EPOCH 23\n",
      "Validation Loss = 1.699 and Validation Accuracy = 37.456 %\n",
      "EPOCH 24\n",
      "Validation Loss = 1.705 and Validation Accuracy = 36.461 %\n",
      "EPOCH 25\n",
      "Validation Loss = 1.727 and Validation Accuracy = 37.242 %\n",
      "EPOCH 26\n",
      "Validation Loss = 1.763 and Validation Accuracy = 36.389 %\n",
      "EPOCH 27\n",
      "Validation Loss = 1.767 and Validation Accuracy = 37.598 %\n",
      "EPOCH 28\n",
      "Validation Loss = 1.811 and Validation Accuracy = 37.408 %\n",
      "EPOCH 29\n",
      "Validation Loss = 1.811 and Validation Accuracy = 37.550 %\n",
      "EPOCH 30\n",
      "Validation Loss = 1.884 and Validation Accuracy = 38.474 %\n",
      "EPOCH 31\n",
      "Validation Loss = 1.885 and Validation Accuracy = 37.598 %\n",
      "EPOCH 32\n",
      "Validation Loss = 1.947 and Validation Accuracy = 38.332 %\n",
      "EPOCH 33\n",
      "Validation Loss = 1.971 and Validation Accuracy = 37.858 %\n",
      "EPOCH 34\n",
      "Validation Loss = 2.063 and Validation Accuracy = 38.616 %\n",
      "EPOCH 35\n",
      "Validation Loss = 2.106 and Validation Accuracy = 37.503 %\n",
      "EPOCH 36\n",
      "Validation Loss = 2.162 and Validation Accuracy = 37.787 %\n",
      "EPOCH 37\n",
      "Validation Loss = 2.294 and Validation Accuracy = 37.527 %\n",
      "EPOCH 38\n",
      "Validation Loss = 2.197 and Validation Accuracy = 36.816 %\n",
      "EPOCH 39\n",
      "Validation Loss = 2.317 and Validation Accuracy = 36.958 %\n",
      "EPOCH 40\n",
      "Validation Loss = 2.363 and Validation Accuracy = 38.119 %\n",
      "EPOCH 41\n",
      "Validation Loss = 2.469 and Validation Accuracy = 39.256 %\n",
      "EPOCH 42\n",
      "Validation Loss = 2.552 and Validation Accuracy = 38.901 %\n",
      "EPOCH 43\n",
      "Validation Loss = 2.631 and Validation Accuracy = 38.214 %\n",
      "EPOCH 44\n",
      "Validation Loss = 2.679 and Validation Accuracy = 38.474 %\n",
      "EPOCH 45\n",
      "Validation Loss = 2.701 and Validation Accuracy = 37.361 %\n",
      "EPOCH 46\n",
      "Validation Loss = 2.795 and Validation Accuracy = 37.882 %\n",
      "EPOCH 47\n",
      "Validation Loss = 2.858 and Validation Accuracy = 38.285 %\n",
      "EPOCH 48\n",
      "Validation Loss = 2.933 and Validation Accuracy = 39.517 %\n",
      "EPOCH 49\n",
      "Validation Loss = 2.944 and Validation Accuracy = 38.261 %\n",
      "EPOCH 50\n",
      "Validation Loss = 3.034 and Validation Accuracy = 37.787 %\n",
      "EPOCH 51\n",
      "Validation Loss = 3.129 and Validation Accuracy = 37.550 %\n",
      "EPOCH 52\n",
      "Validation Loss = 3.153 and Validation Accuracy = 38.380 %\n",
      "EPOCH 53\n",
      "Validation Loss = 3.126 and Validation Accuracy = 38.640 %\n",
      "EPOCH 54\n",
      "Validation Loss = 3.248 and Validation Accuracy = 37.882 %\n",
      "EPOCH 55\n",
      "Validation Loss = 3.280 and Validation Accuracy = 39.043 %\n",
      "EPOCH 56\n",
      "Validation Loss = 3.279 and Validation Accuracy = 38.735 %\n",
      "EPOCH 57\n",
      "Validation Loss = 3.253 and Validation Accuracy = 38.688 %\n",
      "EPOCH 58\n",
      "Validation Loss = 3.465 and Validation Accuracy = 38.782 %\n",
      "EPOCH 59\n",
      "Validation Loss = 3.532 and Validation Accuracy = 39.706 %\n",
      "EPOCH 60\n",
      "Validation Loss = 3.423 and Validation Accuracy = 39.327 %\n"
     ]
    },
    {
     "data": {
      "image/png": "[encoded data removed]",
      "text/plain": [
       "<matplotlib.figure.Figure at 0x7f824264b080>"
      ]
     },
     "metadata": {},
     "output_type": "display_data"
    }
   ],
   "source": [
    "acc_map = []\n",
    "\n",
    "#import shuffle\n",
    "\n",
    "samples = len(X_tr)\n",
    "print(\"Initializing Training\")\n",
    "try:\n",
    "    with tf.Session() as sess:\n",
    "        init = tf.global_variables_initializer()\n",
    "        sess.run(init)\n",
    "        for epoch in range(epochs):\n",
    "            X_train, Y_train = shuffle(X_tr, Y_tr)\n",
    "            for offset in range(0, samples, batch_size):\n",
    "                end = offset+batch_size\n",
    "                xs_batch, ys_batch = X_train[offset:end], Y_train[offset:end]\n",
    "                loss_, _, acc_ = sess.run([loss, optimizer, accuracy], feed_dict={x: xs_batch, y: ys_batch})\n",
    "                \n",
    "            validation_loss, validation_acc = train(X_val, Y_val)\n",
    "            # acc map\n",
    "            acc_map.append(round(validation_acc*100, 2))\n",
    "            print(\"EPOCH {}\".format(epoch + 1))\n",
    "            print (\"Validation Loss = {:.3f} and Validation Accuracy = {:.3f} %\".format(validation_loss, 100 *validation_acc))\n",
    "        plt.figure(figsize=(12, 5))\n",
    "        plt.xticks(range(1, epochs+1))\n",
    "        plt.xlabel('epoch')\n",
    "        plt.ylabel('accuracy')\n",
    "        plt.grid(True)\n",
    "        plt.plot(range(1, epochs+1), acc_map, '-o')\n",
    "        for i, j in list(zip(range(1, epochs+1), acc_map))[0::3]:\n",
    "            plt.text(i, j-1, str(j))\n",
    "        \n",
    "    \n",
    "except KeyboardInterrupt:\n",
    "    print('Training interrupted')"
   ]
  },
  {
   "cell_type": "code",
   "execution_count": null,
   "metadata": {
    "collapsed": true
   },
   "outputs": [],
   "source": []
  },
  {
   "cell_type": "code",
   "execution_count": null,
   "metadata": {},
   "outputs": [],
   "source": []
  }
 ],
 "metadata": {
  "kernelspec": {
   "display_name": "Python 3",
   "language": "python",
   "name": "python3"
  },
  "language_info": {
   "codemirror_mode": {
    "name": "ipython",
    "version": 3
   },
   "file_extension": ".py",
   "mimetype": "text/x-python",
   "name": "python",
   "nbconvert_exporter": "python",
   "pygments_lexer": "ipython3",
   "version": "3.6.1"
  }
 },
 "nbformat": 4,
 "nbformat_minor": 2
}
